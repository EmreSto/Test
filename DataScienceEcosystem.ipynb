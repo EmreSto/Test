{
 "cells": [
  {
   "cell_type": "markdown",
   "id": "f5209696-4e96-4806-b8c0-f3f515b858a8",
   "metadata": {},
   "source": [
    "# Data Science Tools and Ecosystem"
   ]
  },
  {
   "cell_type": "markdown",
   "id": "e9132b23-8224-4c52-99ca-ce7ee0bca2ce",
   "metadata": {},
   "source": [
    "In this notebook, Data Science Tools and Ecosystem are summarized."
   ]
  },
  {
   "cell_type": "markdown",
   "id": "8a5069a6-3889-4747-b84c-3dbf38136495",
   "metadata": {},
   "source": [
    "__Objectives:__"
   ]
  },
  {
   "cell_type": "markdown",
   "id": "7bc34d38-d234-4bff-8b97-7c97b15ae503",
   "metadata": {},
   "source": [
    "- API'S\n",
    "- MODELS\n",
    "- GITHUB\n",
    "- RSTUDIO\n",
    "- PYTHON "
   ]
  },
  {
   "cell_type": "markdown",
   "id": "5847ac18-8304-4d42-892f-7e5a0b15633f",
   "metadata": {},
   "source": [
    "Some of the popular languages that Data Scientists use are:"
   ]
  },
  {
   "cell_type": "markdown",
   "id": "2b94f7db-f0b5-4510-a22a-f6738c68daef",
   "metadata": {},
   "source": [
    "1. Pyhton\n",
    "2. R\n",
    "3. SQL\n",
    "4. Java\n",
    "5. Scala"
   ]
  },
  {
   "cell_type": "markdown",
   "id": "447dfd61-da08-441f-9975-f13479ccfa03",
   "metadata": {},
   "source": [
    "Some of the commonly used libraries used by Data Scientists include:"
   ]
  },
  {
   "cell_type": "markdown",
   "id": "ecde6220-fa6a-4544-a23d-f982370fcf39",
   "metadata": {},
   "source": [
    "1. Matplotlib\n",
    "2. NumPy\n",
    "3. Pandas\n",
    "4. TensorFlow\n",
    "5. Keras\n",
    "6. PyTorch"
   ]
  },
  {
   "cell_type": "markdown",
   "id": "8830ec62-756c-4ff2-beb7-722c2efc9df6",
   "metadata": {},
   "source": [
    "|Data Science Tools |\n",
    "|-------------------|\n",
    "|R Studio           |\n",
    "|Jupyter Notebooks  |\n",
    "|Tableau Software   |"
   ]
  },
  {
   "cell_type": "markdown",
   "id": "37ba7d36-c06d-4a00-b6b6-04148a026650",
   "metadata": {},
   "source": [
    "### Below are a few examples of evaluating arithmetic expressions in Python"
   ]
  },
  {
   "cell_type": "code",
   "execution_count": 5,
   "id": "4d3c756e-da2b-4e57-9971-f0d5fefb911e",
   "metadata": {},
   "outputs": [
    {
     "name": "stdout",
     "output_type": "stream",
     "text": [
      "9\n",
      "1\n"
     ]
    }
   ],
   "source": [
    "x=5\n",
    "y=4\n",
    "result=x+y\n",
    "print(result)\n",
    "result2=x-y\n",
    "print(result2)"
   ]
  },
  {
   "cell_type": "code",
   "execution_count": 3,
   "id": "5c84f9a4-2474-4d47-9330-6ead28ca82f0",
   "metadata": {},
   "outputs": [
    {
     "name": "stdout",
     "output_type": "stream",
     "text": [
      "18.4\n"
     ]
    }
   ],
   "source": [
    "x=2\n",
    "y=9.2\n",
    "result=x*y\n",
    "print(result)"
   ]
  },
  {
   "cell_type": "code",
   "execution_count": 4,
   "id": "a893c324-8d17-47c5-ac73-27d35307595a",
   "metadata": {},
   "outputs": [
    {
     "name": "stdout",
     "output_type": "stream",
     "text": [
      "5.240311065782764\n"
     ]
    }
   ],
   "source": [
    "x=123315\n",
    "y=23532\n",
    "print(x/y)\n"
   ]
  },
  {
   "cell_type": "code",
   "execution_count": 10,
   "id": "a9ff485d-2826-4a2c-8c54-a35db89dc329",
   "metadata": {},
   "outputs": [
    {
     "name": "stdout",
     "output_type": "stream",
     "text": [
      "17\n"
     ]
    }
   ],
   "source": [
    "# This a simple arithmetic expression to mutiply then add integers\n",
    "x=(3*4)+5\n",
    "print(x)\n"
   ]
  },
  {
   "cell_type": "code",
   "execution_count": 11,
   "id": "74bff81d-054f-4475-9274-95bb5ef1044d",
   "metadata": {},
   "outputs": [
    {
     "name": "stdout",
     "output_type": "stream",
     "text": [
      "3.3333333333333335\n"
     ]
    }
   ],
   "source": [
    "# This will convert 200 minutes to hours by diving by 60\n",
    "minutes=200\n",
    "hours=60\n",
    "print(minutes/hours)\n"
   ]
  },
  {
   "cell_type": "markdown",
   "id": "a73e733b-2486-4a53-820a-f4f0301649d0",
   "metadata": {},
   "source": [
    "## Author\n",
    "Yusuf Emre Yılmaz"
   ]
  },
  {
   "cell_type": "code",
   "execution_count": null,
   "id": "a1f26193-1d67-45e1-9321-2ec575dc3442",
   "metadata": {},
   "outputs": [],
   "source": []
  }
 ],
 "metadata": {
  "kernelspec": {
   "display_name": "Python [conda env:base] *",
   "language": "python",
   "name": "conda-base-py"
  },
  "language_info": {
   "codemirror_mode": {
    "name": "ipython",
    "version": 3
   },
   "file_extension": ".py",
   "mimetype": "text/x-python",
   "name": "python",
   "nbconvert_exporter": "python",
   "pygments_lexer": "ipython3",
   "version": "3.12.7"
  }
 },
 "nbformat": 4,
 "nbformat_minor": 5
}
